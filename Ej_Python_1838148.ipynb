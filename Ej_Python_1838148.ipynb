{
  "nbformat": 4,
  "nbformat_minor": 0,
  "metadata": {
    "colab": {
      "name": "Ej_Python_1838148.ipynb",
      "provenance": [],
      "collapsed_sections": [],
      "authorship_tag": "ABX9TyNjA73TnD/2ppgm5zHvHGm5",
      "include_colab_link": true
    },
    "kernelspec": {
      "name": "python3",
      "display_name": "Python 3"
    },
    "language_info": {
      "name": "python"
    }
  },
  "cells": [
    {
      "cell_type": "markdown",
      "metadata": {
        "id": "view-in-github",
        "colab_type": "text"
      },
      "source": [
        "<a href=\"https://colab.research.google.com/github/RaulFloresR/Mineria_de_Datos/blob/main/Ej_Python_1838148.ipynb\" target=\"_parent\"><img src=\"https://colab.research.google.com/assets/colab-badge.svg\" alt=\"Open In Colab\"/></a>"
      ]
    },
    {
      "cell_type": "markdown",
      "metadata": {
        "id": "P_esi2aVXr1y"
      },
      "source": [
        "# **Ejercicio 1:**\n",
        "Realiza una variable con tu matricula y realiza una secuencia de imprimir con tu nombre y tu matricula concatenados."
      ]
    },
    {
      "cell_type": "code",
      "metadata": {
        "colab": {
          "base_uri": "https://localhost:8080/"
        },
        "id": "U29P4gPMY8wb",
        "outputId": "a446680f-f603-47fb-eb79-3ca04bf8cf3e"
      },
      "source": [
        "Mat= '1838148'\n",
        "name= 'Raul Flores'\n",
        "\n",
        "print (name, Mat)"
      ],
      "execution_count": null,
      "outputs": [
        {
          "output_type": "stream",
          "text": [
            "Raul Flores 1838148\n"
          ],
          "name": "stdout"
        }
      ]
    },
    {
      "cell_type": "markdown",
      "metadata": {
        "id": "RRJQuCWwZuji"
      },
      "source": [
        "#**Ejercicio 2**:\n",
        " Pidiendo el input del usuario pide dos números y crea una pequeña calculadora con los operadores básicos de suma, resta, multiplicación, división, y exponente."
      ]
    },
    {
      "cell_type": "code",
      "metadata": {
        "colab": {
          "base_uri": "https://localhost:8080/"
        },
        "id": "MjzblzTuZ2dl",
        "outputId": "5e1d8cb2-4e43-472e-b715-8650e87cfdc5"
      },
      "source": [
        "while True:\n",
        "\n",
        "    try:\n",
        "        n1= int(input('Ingresa un primer número '))\n",
        "        n2= int(input('Ingresa un segundo número '))\n",
        "        print ('\\nSuma ', n1+n2,\n",
        "       '\\n Resta', n1-n2,\n",
        "        '\\n Multiplicación', n1*n2,\n",
        "        '\\n División', n1/n2,\n",
        "        '\\n Exponente', n1**n2)\n",
        "        break\n",
        "\n",
        "    except ValueError:\n",
        "        print ('Ese número no es válido, ingresa solo números enteros')"
      ],
      "execution_count": null,
      "outputs": [
        {
          "output_type": "stream",
          "text": [
            "Ingresa un primer número 4\n",
            "Ingresa un segundo número 3\n",
            "\n",
            "Suma  7 \n",
            " Resta 1 \n",
            " Multiplicación 12 \n",
            " División 1.3333333333333333 \n",
            " Exponente 64\n"
          ],
          "name": "stdout"
        }
      ]
    },
    {
      "cell_type": "markdown",
      "metadata": {
        "id": "I8tkRExrbYy0"
      },
      "source": [
        "#**Ejercicio 3:** \n",
        "Con loop while o for, realiza una lista de 10 numeros multiplos de 3, y después realiza una función de loop que sume todos los números dentro del arreglo."
      ]
    },
    {
      "cell_type": "code",
      "metadata": {
        "colab": {
          "base_uri": "https://localhost:8080/"
        },
        "id": "LyrGiOB3bffR",
        "outputId": "e2798a5a-9880-4644-d3cb-2f6b16bc4283"
      },
      "source": [
        "i=2\n",
        "\n",
        "lista = [3]\n",
        "suma = 0\n",
        "\n",
        "while i <= 10:\n",
        "    ord_list= lista[0]\n",
        "    mult= ord_list*i\n",
        "    lista.append(mult)\n",
        "    i += 1\n",
        "print (lista)\n",
        "    \n",
        "\n",
        "for elem in lista:\n",
        "    suma += elem\n",
        "print (\"La suma de los numeros es\",suma)"
      ],
      "execution_count": null,
      "outputs": [
        {
          "output_type": "stream",
          "text": [
            "[3, 6, 9, 12, 15, 18, 21, 24, 27, 30]\n",
            "La suma de los numeros es 165\n"
          ],
          "name": "stdout"
        }
      ]
    },
    {
      "cell_type": "markdown",
      "metadata": {
        "id": "ipIaDo-EcAtL"
      },
      "source": [
        "# **Ejercicio 4:** \n",
        "*   Con una función de if else, revisar si un número es par o es impar.\n",
        "*   Con una función de if else, revisar si un número es primo o no."
      ]
    },
    {
      "cell_type": "code",
      "metadata": {
        "colab": {
          "base_uri": "https://localhost:8080/"
        },
        "id": "eth8sYGpkbpq",
        "outputId": "f7e8492c-9d71-4439-ef98-9f44e41f8e59"
      },
      "source": [
        "while True:\n",
        "    try:    \n",
        "        num= int(input('Introduce un número entero: '))\n",
        "        if num%2 == 0:\n",
        "            print ('El número es par')\n",
        "            break\n",
        "        else:\n",
        "            print ('El número es impar')\n",
        "            break\n",
        "    except ValueError:\n",
        "        print ('Número inválido, intenta de nuevo')\n",
        "\n",
        "while True:\n",
        "    try:\n",
        "        if num <1:\n",
        "            print ('El número no es primo')\n",
        "            break\n",
        "        elif num == 2:\n",
        "            print('El número es primo')\n",
        "            break        \n",
        "        else:\n",
        "            for i in range (2, num):\n",
        "                if num % i == 0:\n",
        "                    print ('El número no es primo')\n",
        "                    break            \n",
        "            break\n",
        "    \n",
        "    except ValueError:\n",
        "        print ('Número inválido, intenta de nuevo')"
      ],
      "execution_count": 35,
      "outputs": [
        {
          "output_type": "stream",
          "text": [
            "Introduce un número entero: 22\n",
            "El número es par\n",
            "El número no es primo\n"
          ],
          "name": "stdout"
        }
      ]
    },
    {
      "cell_type": "markdown",
      "metadata": {
        "id": "S-Ds_2awk1IE"
      },
      "source": [
        "# **Ejercicio 5**\n",
        "Utilizando diferentes clases en python, crea una calculadora con los operadores básicos de suma, resta, multiplicación, división, y exponente."
      ]
    },
    {
      "cell_type": "code",
      "metadata": {
        "colab": {
          "base_uri": "https://localhost:8080/"
        },
        "id": "D8Lpt5vFk_qM",
        "outputId": "36536db7-84eb-403d-c435-c883750bc7bb"
      },
      "source": [
        "print(\"Escoja la operacion a realizar\")\n",
        "num=int(input(\"1.Suma  2.Resta  3.Multiplicación  4.División  5.Exponente   \"))\n",
        "n1=int(input(\"Ingresa un número  \"  ))\n",
        "n2=int(input(\"Ingresa otro número  \" ))\n",
        "if num==1:\n",
        "    j=n1+n2\n",
        "    print(\"La suma de los números es:  \",j)\n",
        "elif num==2:\n",
        "    j=n1-n2\n",
        "    print(\"La resta de los números es:  \",j)\n",
        "elif num==3:\n",
        "    j=n1*n2\n",
        "    print(\"La multiplicación de los números es:  \",j)\n",
        "elif num==4:\n",
        "    j=n1^n2\n",
        "    print(\"La división de los números es:  \",j)\n",
        "elif num==5:\n",
        "    print(\" El primer número a elevado al segundo número es: \",j)  \n",
        "else:\n",
        "    print(\"Opción incorrecta\")"
      ],
      "execution_count": 37,
      "outputs": [
        {
          "output_type": "stream",
          "text": [
            "Escoja la operacion a realizar\n",
            "1.Suma  2.Resta  3.Multiplicación  4.División  5.Exponente   3\n",
            "Ingresa un número  4\n",
            "Ingresa otro número  5\n",
            "La multiplicación de los números es:   20\n"
          ],
          "name": "stdout"
        }
      ]
    },
    {
      "cell_type": "markdown",
      "metadata": {
        "id": "CrSbXc0algA1"
      },
      "source": [
        "# **Tuplas**\n",
        "\n",
        "\n",
        "*   Crear una variable flotante, integer, boleana y compleja e imprimir el tipo de variable que es.\n",
        "\n",
        "\n"
      ]
    },
    {
      "cell_type": "code",
      "metadata": {
        "colab": {
          "base_uri": "https://localhost:8080/"
        },
        "id": "G1UyC2uaoOKJ",
        "outputId": "854d70d8-c6a6-4c9d-9d90-14c083d55909"
      },
      "source": [
        "tupla = (4.2, 3, 1 > 0 , 6 + 7j)  \n",
        "for i in range (len(tupla)): \n",
        "  print (\"Valor: {} - tipo de dato: {}\" .format(tupla[i], type (tupla[i])))"
      ],
      "execution_count": 38,
      "outputs": [
        {
          "output_type": "stream",
          "text": [
            "Valor: 4.2 - tipo de dato: <class 'float'>\n",
            "Valor: 3 - tipo de dato: <class 'int'>\n",
            "Valor: True - tipo de dato: <class 'bool'>\n",
            "Valor: (6+7j) - tipo de dato: <class 'complex'>\n"
          ],
          "name": "stdout"
        }
      ]
    },
    {
      "cell_type": "markdown",
      "metadata": {
        "id": "KgRa3GhOpQAl"
      },
      "source": [
        "\n",
        "\n",
        "*   Crear una tupla con valores enteros imprimir el primer y ultimo valor.\n",
        "\n"
      ]
    },
    {
      "cell_type": "code",
      "metadata": {
        "colab": {
          "base_uri": "https://localhost:8080/"
        },
        "id": "X73HwWmepX1h",
        "outputId": "a43bad8b-50f8-444d-af01-4673535dede3"
      },
      "source": [
        "tupla = (1, 2, 3, 4 ,5)\n",
        "\n",
        "val1= tupla[0]\n",
        "ultval= tupla[len(tupla)-1] \n",
        "\n",
        "print (\"El primer valor de la tupla es:\",val1)\n",
        "print (\"El ultimo valor de la tupla es:\", ultval)"
      ],
      "execution_count": 39,
      "outputs": [
        {
          "output_type": "stream",
          "text": [
            "El primer valor de la tupla es: 1\n",
            "El ultimo valor de la tupla es: 5\n"
          ],
          "name": "stdout"
        }
      ]
    },
    {
      "cell_type": "markdown",
      "metadata": {
        "id": "cdmz_xEBp4Kt"
      },
      "source": [
        "\n",
        "\n",
        "*   Añadir 3 valores de string a la tupla.\n",
        "\n"
      ]
    },
    {
      "cell_type": "code",
      "metadata": {
        "colab": {
          "base_uri": "https://localhost:8080/"
        },
        "id": "sXi2RsCep-Bz",
        "outputId": "5a854b00-ed8e-4ae7-e055-d412a28b4e33"
      },
      "source": [
        "tupla =(1, 2, 3, 4, 5)\n",
        "\n",
        "print(\"Tupla:\", tupla)\n",
        "\n",
        "tupla = tupla + ('no se', 'que estoy haciendo','con mi vida' )\n",
        "\n",
        "print(\"La nueva tupla es:\", tupla)"
      ],
      "execution_count": 43,
      "outputs": [
        {
          "output_type": "stream",
          "text": [
            "Tupla: (1, 2, 3, 4, 5)\n",
            "La nueva tupla es: (1, 2, 3, 4, 5, 'no se', 'que estoy haciendo', 'con mi vida')\n"
          ],
          "name": "stdout"
        }
      ]
    },
    {
      "cell_type": "markdown",
      "metadata": {
        "id": "Un6fcDQGqtkJ"
      },
      "source": [
        "\n",
        "\n",
        "*   Verificar si una variable existe dentro de la tupla.\n",
        "\n",
        "\n"
      ]
    },
    {
      "cell_type": "code",
      "metadata": {
        "colab": {
          "base_uri": "https://localhost:8080/"
        },
        "id": "opkpjP-sq1JF",
        "outputId": "e0e04e73-a68d-41c9-df81-fd06728d9058"
      },
      "source": [
        "tupla: (1,2,3,4,5)\n",
        "\n",
        "print (3 in tupla)\n",
        "\n",
        "print (67 in tupla)"
      ],
      "execution_count": 45,
      "outputs": [
        {
          "output_type": "stream",
          "text": [
            "True\n",
            "False\n"
          ],
          "name": "stdout"
        }
      ]
    },
    {
      "cell_type": "markdown",
      "metadata": {
        "id": "gVUWxWFwrT4T"
      },
      "source": [
        "# **Listas**\n",
        "\n",
        "\n",
        "*   Crear una lista con 40 elementos aleatorios enteros.\n",
        "*   Con una funcion (def) crear dos listas nuevas a partir de la lista creada por numeros aleatorios, en la cual en una esten los elementos pares, y en la otra los elementos impares.\n",
        "*   Crear dos variables con la longitud de ambas listas nuevas e imprimir las variables.\n",
        "*   Ordenar los elementos de la lista par de mayor a menor, y los de la lista impar de menor a mayor.\n",
        "*   Utilizar al menos cuatro de las funciones de listas en python en la lista original de 40 elementos.\n",
        "\n",
        "\n",
        "\n",
        "\n"
      ]
    },
    {
      "cell_type": "code",
      "metadata": {
        "colab": {
          "base_uri": "https://localhost:8080/"
        },
        "id": "iUQYFGALruDU",
        "outputId": "7d1aa5f9-231d-4935-d463-30b72dcfc01f"
      },
      "source": [
        "import random\n",
        "def impar(l):\n",
        "    impar=list()\n",
        "    for e in l:\n",
        "        if e%2!=0:\n",
        "            impar.append(e)\n",
        "    return impar\n",
        "def par(l):\n",
        "    par=list()\n",
        "    for e in l:\n",
        "        if e%2==0:\n",
        "            par.append(e)\n",
        "    return par\n",
        "    \n",
        "pares=list()\n",
        "impares=list()\n",
        "aleatorio=range(0,100)\n",
        "l=random.sample(aleatorio,40)\n",
        "longitud=len(l)\n",
        "print(\"La longitud de los números es: \",longitud)\n",
        "pares=par(l)\n",
        "impares=impar(l)\n",
        "impares.sort()\n",
        "paresord=sorted(pares,reverse=True)\n",
        "pares=paresord\n",
        "cantidad1=len(pares)\n",
        "cantidad2=len(impares)\n",
        "suma=sum(l)\n",
        "promedio=suma/len(l)\n",
        "l.sort()\n",
        "minimo=min(l)\n",
        "maximo=max(l)\n",
        "print(\"Los números pares ordenados: \",pares)\n",
        "print(\"Los números impares ordenados: \",impares)\n",
        "print(\"Los pares de la lista son: \",pares,\"\\nLos impares de la lista son: \",impares)\n",
        "print(\"La cantidad de pares en números es: \",cantidad1,\"\\nLa cantidad de impares es:\",cantidad2)\n",
        "print(\"El promedio de los números es: \",promedio)\n",
        "print(\"El menor de los números es: \",minimo)\n",
        "print(\"El mayor de los números es: \",maximo)\n",
        "print(\"La suma de los números es: \",suma)"
      ],
      "execution_count": 54,
      "outputs": [
        {
          "output_type": "stream",
          "text": [
            "La longitud de los números es:  40\n",
            "Los números pares ordenados:  [98, 90, 88, 86, 80, 78, 70, 68, 64, 60, 56, 50, 48, 42, 38, 34, 32, 28, 10, 8, 6, 2]\n",
            "Los números impares ordenados:  [5, 13, 15, 19, 31, 33, 37, 39, 43, 49, 59, 69, 77, 83, 87, 89, 93, 97]\n",
            "Los pares de la lista son:  [98, 90, 88, 86, 80, 78, 70, 68, 64, 60, 56, 50, 48, 42, 38, 34, 32, 28, 10, 8, 6, 2] \n",
            "Los impares de la lista son:  [5, 13, 15, 19, 31, 33, 37, 39, 43, 49, 59, 69, 77, 83, 87, 89, 93, 97]\n",
            "La cantidad de pares en números es:  22 \n",
            "La cantidad de impares es: 18\n",
            "El promedio de los números es:  51.85\n",
            "El menor de los números es:  2\n",
            "El mayor de los números es:  98\n",
            "La suma de los números es:  2074\n"
          ],
          "name": "stdout"
        }
      ]
    },
    {
      "cell_type": "markdown",
      "metadata": {
        "id": "75OvP22ZvMve"
      },
      "source": [
        "# **Diccionarios**\n",
        "\n",
        "\n",
        "*   Crear un diccionario de 6 personas que conozcas con su primer nombre y su edad.\n",
        "*   Crear una lista con los valores de la edad y reacomodar la lista de menor a mayor valor.\n",
        "\n",
        "*   Usando el diccionario y un loop, imprimir solo los nombres.Usando el diccionario y un loop, imprimir solo los nombres.\n",
        "*   Añadir dos personas nuevas a tu diccionario, incluyendo edad.\n",
        "\n",
        "\n",
        "\n"
      ]
    },
    {
      "cell_type": "code",
      "metadata": {
        "colab": {
          "base_uri": "https://localhost:8080/"
        },
        "id": "DXARSMXKvd_y",
        "outputId": "49378abc-e2ee-4781-d234-83ecca482bb7"
      },
      "source": [
        "Diccionario={'Sergio':21,'Abraham':25,'Gladys':31,'Christopher':22,'Damara':22,'Michelle':27}\n",
        "edades=list()\n",
        "print(\"Cada una de las personas con sus edades: \",Diccionario)\n",
        "for e in Diccionario:\n",
        "    edades.append(Diccionario[e])\n",
        "edades.sort()\n",
        "print(\"Las edades de menor a mayor son\",edades)\n",
        "print(\"Los nombres de las personas son: \")\n",
        "nombres=Diccionario.keys() \n",
        "for nombre in nombres:\n",
        "    print(nombre)\n",
        "Diccionario['Carlos']=28\n",
        "Diccionario['Raul']=23\n",
        "print(\"El nuevo diccionario es: \",Diccionario)\n"
      ],
      "execution_count": 56,
      "outputs": [
        {
          "output_type": "stream",
          "text": [
            "Cada una de las personas con sus edades:  {'Sergio': 21, 'Abraham': 25, 'Gladys': 31, 'Christopher': 22, 'Damara': 22, 'Michelle': 27}\n",
            "Las edades de menor a mayor son [21, 22, 22, 25, 27, 31]\n",
            "Los nombres de las personas son: \n",
            "Sergio\n",
            "Abraham\n",
            "Gladys\n",
            "Christopher\n",
            "Damara\n",
            "Michelle\n",
            "El nuevo diccionario es:  {'Sergio': 21, 'Abraham': 25, 'Gladys': 31, 'Christopher': 22, 'Damara': 22, 'Michelle': 27, 'Carlos': 28, 'Raul': 23}\n"
          ],
          "name": "stdout"
        }
      ]
    },
    {
      "cell_type": "markdown",
      "metadata": {
        "id": "kuf_EWGNwiCT"
      },
      "source": [
        "# **Sets**\n",
        "\n",
        "\n",
        "*   Crea un set con 100 numeros aleatorios enteros del 1 al 25.\n",
        "*   Comprueba la longitud de tu set.\n",
        "*   Crea una lista de 5 numeros aleatorios del 1 al 10 y comprueba si cada valor aparece en el set inicial.\n",
        "\n",
        "\n",
        "\n"
      ]
    },
    {
      "cell_type": "code",
      "metadata": {
        "colab": {
          "base_uri": "https://localhost:8080/"
        },
        "id": "RSqoNQ6rw0hF",
        "outputId": "9c9628a1-3116-45e5-8678-116581435500"
      },
      "source": [
        "import random\n",
        "set1=set()\n",
        "long=list()\n",
        "for i in range(0,100):\n",
        "    elemento=random.randint(1,25)\n",
        "    set1.add(elemento)    \n",
        "longitud=len(set1)\n",
        "print('La longitud del set es de: ',longitud)\n",
        "print('El set es: ',set1)\n",
        "for i in range(0,5):\n",
        "    elemtis=random.randint(1,10)\n",
        "    long.append(elemtis)\n",
        "print('La lista aleatoria es: ',long)\n",
        "\n",
        "for i in long:\n",
        "    if i in set1:\n",
        "        print('El número',i,'si esta en el set')\n",
        "    else:\n",
        "        print('El número',i, 'no esta en el set')"
      ],
      "execution_count": 121,
      "outputs": [
        {
          "output_type": "stream",
          "text": [
            "La longitud del set es de:  22\n",
            "El set es:  {1, 2, 3, 4, 5, 6, 7, 8, 9, 11, 13, 14, 15, 16, 18, 19, 20, 21, 22, 23, 24, 25}\n",
            "La lista aleatoria es:  [9, 10, 5, 7, 9]\n",
            "El número 9 si esta en el set\n",
            "El número 10 no esta en el set\n",
            "El número 5 si esta en el set\n",
            "El número 7 si esta en el set\n",
            "El número 9 si esta en el set\n"
          ],
          "name": "stdout"
        }
      ]
    }
  ]
}